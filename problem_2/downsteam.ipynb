{
 "cells": [
  {
   "cell_type": "code",
   "execution_count": 3,
   "metadata": {},
   "outputs": [
    {
     "name": "stdout",
     "output_type": "stream",
     "text": [
      "(30494, 1026)\n"
     ]
    }
   ],
   "source": [
    "import json\n",
    "import logging\n",
    "\n",
    "import matplotlib.pyplot as plt\n",
    "import numpy as np\n",
    "import pandas as pd\n",
    "import seaborn as sns\n",
    "import torch\n",
    "import torch.nn as nn\n",
    "import torch.nn.functional as F\n",
    "from captum.attr import Lime, LimeBase\n",
    "from sklearn.metrics import (\n",
    "    accuracy_score,\n",
    "    average_precision_score,\n",
    "    confusion_matrix,\n",
    "    f1_score,\n",
    "    precision_score,\n",
    "    recall_score,\n",
    "    roc_auc_score,\n",
    "    confusion_matrix,\n",
    ")\n",
    "from sklearn.model_selection import train_test_split\n",
    "from torch.utils.data import DataLoader, Dataset\n",
    "from tqdm import tqdm\n",
    "\n",
    "\n",
    "class CustomDataset(Dataset):\n",
    "    def __init__(self, data, targets):\n",
    "        self.data = data\n",
    "        self.targets = targets\n",
    "\n",
    "    def __getitem__(self, index):\n",
    "        x = torch.tensor(self.data.iloc[index, :].values, dtype=torch.float32)\n",
    "        y = torch.tensor(self.targets.iloc[index], dtype=torch.long)\n",
    "        return x, y\n",
    "\n",
    "    def __len__(self):\n",
    "        return len(self.data)\n",
    "\n",
    "\n",
    "class Network(nn.Module):\n",
    "    def __init__(self, input_feats: int = 770) -> None:\n",
    "        super().__init__()\n",
    "\n",
    "        self.fc1 = nn.Linear(input_feats, 2**10)\n",
    "        self.fc2 = nn.Linear(2**10, 2**8)\n",
    "        self.fc3 = nn.Linear(2**8, 2**5)\n",
    "        self.fc4 = nn.Linear(2**5, 2**3)\n",
    "        self.fc5 = nn.Linear(2**3, 2**3)\n",
    "        self.final = nn.Linear(2**3, 1)\n",
    "        self.droup_out = nn.Dropout(0.33)\n",
    "\n",
    "    def forward(self, x):\n",
    "        x = F.selu(self.fc1(x))\n",
    "        x = F.selu(self.fc2(x))\n",
    "        x = self.droup_out(x)\n",
    "        x = F.selu(self.fc3(x))\n",
    "        x = self.droup_out(x)\n",
    "        x = F.selu(self.fc4(x))\n",
    "        x = F.selu(self.fc5(x))\n",
    "        x = self.final(x)\n",
    "        return x\n",
    "\n",
    "    def predict(self, x):\n",
    "        with torch.no_grad():\n",
    "            logits = self.forward(x)\n",
    "            prob = torch.sigmoid(logits)\n",
    "            pred = prob > 0.5\n",
    "        return pred\n",
    "\n",
    "\n",
    "pth = \"./data/master_data_deberta.csv\"\n",
    "master_data = pd.read_csv(pth)\n",
    "master_data.drop(\"review\", axis=1, inplace=True)\n",
    "targets = master_data.pop(\"targets\")\n",
    "X_train, X_test, y_train, y_test = train_test_split(\n",
    "    master_data, targets, test_size=0.3, stratify=targets\n",
    ")\n",
    "X_val, X_test, y_val, y_test = train_test_split(X_test, y_test, test_size=0.667, stratify=y_test)\n",
    "print(X_train.shape)\n",
    "train_dataset = CustomDataset(X_train, y_train)\n",
    "val_dataset = CustomDataset(X_val, y_val)\n",
    "test_dataset = CustomDataset(X_test, y_test)\n",
    "\n",
    "batch_size = 32\n",
    "\n",
    "train_dataloader = DataLoader(train_dataset, batch_size=batch_size, shuffle=True)\n",
    "val_dataloader = DataLoader(val_dataset, batch_size=batch_size)\n",
    "test_dataloader = DataLoader(test_dataset, batch_size=batch_size)\n"
   ]
  },
  {
   "cell_type": "code",
   "execution_count": 4,
   "metadata": {},
   "outputs": [
    {
     "data": {
      "text/plain": [
       "<All keys matched successfully>"
      ]
     },
     "execution_count": 4,
     "metadata": {},
     "output_type": "execute_result"
    }
   ],
   "source": [
    "model_pth = \"./models/best_model_deberta-large.pt\"\n",
    "model = Network(input_feats=1026)\n",
    "model.load_state_dict(torch.load(\"./models/best_model_deberta-large.pt\"))\n"
   ]
  },
  {
   "cell_type": "code",
   "execution_count": 5,
   "metadata": {},
   "outputs": [],
   "source": [
    "def evaluate(model, dataloader):\n",
    "    device = next(model.parameters()).device\n",
    "    y_true = []\n",
    "    y_pred = []\n",
    "    y_score = []\n",
    "    with torch.no_grad():\n",
    "        for inputs, targets in dataloader:\n",
    "            inputs = inputs.to(device)\n",
    "            targets = targets.to(device)\n",
    "            logits = model(inputs)\n",
    "            probs = torch.sigmoid(logits)\n",
    "            preds = probs > 0.5\n",
    "            y_true.extend(targets.cpu().numpy())\n",
    "            y_pred.extend(preds.cpu().numpy())\n",
    "            y_score.extend(probs.cpu().numpy())\n",
    "    acc = accuracy_score(y_true, y_pred)\n",
    "    f1 = f1_score(y_true, y_pred, average=None)\n",
    "    precision = precision_score(y_true, y_pred, average=None)\n",
    "    recall = recall_score(y_true, y_pred, average=None)\n",
    "    auc = roc_auc_score(y_true, y_score)\n",
    "    auc_pr = average_precision_score(y_true, y_score)\n",
    "    metric_dict = {\n",
    "        \"accuracy\": acc,\n",
    "        \"f1\": f1,\n",
    "        \"precision\": precision,\n",
    "        \"recall\": recall,\n",
    "        \"auc\": auc,\n",
    "        \"auc_pr\": auc_pr,\n",
    "    }\n",
    "    cm = confusion_matrix(y_true, y_pred)\n",
    "    return metric_dict, cm\n"
   ]
  },
  {
   "cell_type": "code",
   "execution_count": 13,
   "metadata": {},
   "outputs": [
    {
     "data": {
      "text/plain": [
       "{'accuracy': 0.8842624455150264,\n",
       " 'f1': array([0.84639976, 0.90715009]),\n",
       " 'precision': array([0.87863464, 0.88746849]),\n",
       " 'recall': array([0.8164464 , 0.92772445]),\n",
       " 'auc': 0.9510327506879892,\n",
       " 'auc_pr': 0.9671397125812947}"
      ]
     },
     "execution_count": 13,
     "metadata": {},
     "output_type": "execute_result"
    }
   ],
   "source": [
    "metrics, cm = evaluate(model, test_dataloader)\n",
    "metrics\n"
   ]
  },
  {
   "cell_type": "code",
   "execution_count": 15,
   "metadata": {},
   "outputs": [
    {
     "data": {
      "text/plain": [
       "array([[2780,  625],\n",
       "       [ 384, 4929]])"
      ]
     },
     "execution_count": 15,
     "metadata": {},
     "output_type": "execute_result"
    }
   ],
   "source": [
    "cm\n"
   ]
  },
  {
   "cell_type": "code",
   "execution_count": 5,
   "metadata": {},
   "outputs": [],
   "source": [
    "miss_classified = {}\n",
    "right_classified = {}\n",
    "model.eval()\n",
    "with torch.no_grad():\n",
    "    for data, label in test_dataloader:\n",
    "        preds = model.predict(data)\n",
    "        for i in range(len(label)):\n",
    "            if preds[i] != label[i]:\n",
    "                # Add the misclassified sample to the dictionary\n",
    "                miss_classified[i] = {\"data\": data[i], \"label\": label[i], \"prediction\": preds[i]}\n",
    "            else:\n",
    "                # Add the correctly classified sample to the dictionary\n",
    "                right_classified[i] = {\"data\": data[i], \"label\": label[i], \"prediction\": preds[i]}\n"
   ]
  },
  {
   "cell_type": "code",
   "execution_count": 18,
   "metadata": {},
   "outputs": [],
   "source": [
    "import random\n",
    "\n",
    "miss_classified_samples = random.sample(list(miss_classified.values()), k=10)\n",
    "right_classified_samples = random.sample(list(right_classified.values()), k=10)\n"
   ]
  },
  {
   "cell_type": "code",
   "execution_count": 23,
   "metadata": {},
   "outputs": [],
   "source": [
    "miss_data = np.array([sample[\"data\"].numpy() for sample in miss_classified_samples])\n",
    "miss_labels = np.array([sample[\"label\"] for sample in miss_classified_samples])\n",
    "\n",
    "right_data = np.array([sample[\"data\"].numpy() for sample in right_classified_samples])\n",
    "right_labels = np.array([sample[\"label\"] for sample in right_classified_samples])\n"
   ]
  },
  {
   "cell_type": "code",
   "execution_count": 28,
   "metadata": {},
   "outputs": [
    {
     "data": {
      "image/png": "[encoded data removed]",
      "text/plain": [
       "<Figure size 1000x500 with 4 Axes>"
      ]
     },
     "metadata": {},
     "output_type": "display_data"
    }
   ],
   "source": [
    "import matplotlib.pyplot as plt\n",
    "import numpy as np\n",
    "\n",
    "umap_obj = umap.UMAP(n_neighbors=5, min_dist=0.3, random_state=42)\n",
    "miss_embedding = umap_obj.fit_transform(miss_data)\n",
    "right_embedding = umap_obj.transform(right_data)\n",
    "fig, axs = plt.subplots(1, 2, figsize=(10, 5))\n",
    "\n",
    "miss_scatter = axs[0].scatter(miss_embedding[:, 0], miss_embedding[:, 1], c=miss_labels)\n",
    "right_scatter = axs[1].scatter(right_embedding[:, 0], right_embedding[:, 1], c=right_labels)\n",
    "\n",
    "# Add colorbars to both subplots\n",
    "for ax, scatter in zip(axs, [miss_scatter, right_scatter]):\n",
    "    cb = plt.colorbar(scatter, ax=ax)\n",
    "    cb.ax.tick_params(labelsize=8)\n",
    "\n",
    "# Set the title and labels for the subplots\n",
    "axs[0].set_title(\"Misclassified Samples\")\n",
    "axs[1].set_title(\"Correctly Classified Samples\")\n",
    "axs[0].set_xlabel(\"UMAP Dimension 1\")\n",
    "axs[0].set_ylabel(\"UMAP Dimension 2\")\n",
    "axs[1].set_xlabel(\"UMAP Dimension 1\")\n",
    "axs[1].set_ylabel(\"UMAP Dimension 2\")\n",
    "\n",
    "# Adjust spacing between subplots\n",
    "fig.tight_layout()\n",
    "\n",
    "# Display the plot\n",
    "plt.show()\n"
   ]
  },
  {
   "cell_type": "code",
   "execution_count": null,
   "metadata": {},
   "outputs": [],
   "source": []
  }
 ],
 "metadata": {
  "kernelspec": {
   "display_name": "Python 3",
   "language": "python",
   "name": "python3"
  },
  "language_info": {
   "codemirror_mode": {
    "name": "ipython",
    "version": 3
   },
   "file_extension": ".py",
   "mimetype": "text/x-python",
   "name": "python",
   "nbconvert_exporter": "python",
   "pygments_lexer": "ipython3",
   "version": "3.10.10"
  },
  "orig_nbformat": 4
 },
 "nbformat": 4,
 "nbformat_minor": 2
}
